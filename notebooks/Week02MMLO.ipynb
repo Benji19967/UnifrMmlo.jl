{
 "cells": [
  {
   "cell_type": "markdown",
   "id": "395ae7d9",
   "metadata": {},
   "source": [
    "Every week there will be coding and writing exercises on the contents seen in the lecture. These exercises will be solved before the lecture of the following week. Finally, the last exercies will be on the material to be taught in the following week (and will be addressed during that lecture), so feel free to give it a try!\n",
    "\n",
    "This is the Jupyter notebook of MMLO's week 2. In Exercise 1, you are asked to formulate the described optimization problem. In Exercise 2, in addition to formulating the problem, you are also asked to code in Julia and solve it. Finally, in Exercise 3, you need to answer with true or false some questions.\n",
    "\n",
    "We recommend the step-by-step guide provided by JuMP (https://jump.dev/JuMP.jl/stable/tutorials/getting_started/getting_started_with_JuMP/#Step-by-step) to know more about how to write and solve optimization problems in Julia."
   ]
  },
  {
   "cell_type": "code",
   "execution_count": 12,
   "id": "92f4e62d",
   "metadata": {},
   "outputs": [],
   "source": [
    "using JuMP\n",
    "using HiGHS"
   ]
  },
  {
   "cell_type": "markdown",
   "id": "29eb38f3",
   "metadata": {},
   "source": [
    "# Exercise 1"
   ]
  },
  {
   "cell_type": "markdown",
   "id": "1e7b2acf-b548-40e3-9dbd-3f46b4d20cd4",
   "metadata": {},
   "source": [
    "A company has $N$ tasks to be performed by $N$ workers. We assume that all workers can do all tasks, the same job cannot be assigned to two different workers and each worker is assigned to exactly one job. We denote by $c_{ij}$ the cost of assigning job $i$ to worker $j$ (even though all workers can do all tasks, their salaries might be different). The company needs to write an optimization problem to answer the following question: what is the cheapest way of assigning one job to each of the $N$ workers?\n",
    "\n",
    "Formulate this optimization problem as a mixed-integer linear programming (MILP) model."
   ]
  },
  {
   "cell_type": "markdown",
   "id": "10238a9c-8f7c-4747-ac7f-b75e650765f9",
   "metadata": {},
   "source": [
    "# Exercise 2"
   ]
  },
  {
   "cell_type": "markdown",
   "id": "1d99160f",
   "metadata": {},
   "source": [
    "A bank wants to determine how to invest its assets for the year to come. Currently, the bank has a million euros that it can invest in bonds, real estate loans, leases or personal loans. The annual interest rate of different investment\n",
    "types are 6% for bonds, 10% for real estate loans, 8% for leases, and 13% for personal loans.\n",
    "To minimize risk, the portfolio selected by the bank must satisfy the following restrictions:\n",
    "- The amount allocated to personal loans must not exceed half of that invested in bonds.\n",
    "- The amount allocated to real estate loans must not exceed that allocated to leases.\n",
    "- At most 20% of the total invested amount can be allocated to personal loans.\n",
    "\n",
    "Answer the following questions."
   ]
  },
  {
   "cell_type": "markdown",
   "id": "662e390c",
   "metadata": {},
   "source": [
    "### Questions"
   ]
  },
  {
   "cell_type": "markdown",
   "id": "cc8f8ca1",
   "metadata": {},
   "source": [
    "1. Formulate this problem as an optimization problem by determining the decision variables, the objective function and the constraints. Code it in Julia and solve it."
   ]
  },
  {
   "cell_type": "markdown",
   "id": "f3bb4b6b",
   "metadata": {},
   "source": [
    "2. Formulate this problem as a minimization problem with only lower inequality constraints such that the expression on the decision variables remain on the left-hand side and the constant on the right-hand side. Code it in Julia and verify that the obtained solution is the same."
   ]
  },
  {
   "cell_type": "markdown",
   "id": "5a050746",
   "metadata": {},
   "source": [
    "3. Formulate this problem as a maximization problem with equality constraints and with non negativity constraints on the decision variables."
   ]
  },
  {
   "cell_type": "markdown",
   "id": "394241d3",
   "metadata": {},
   "source": [
    "# Exercise 3"
   ]
  },
  {
   "cell_type": "markdown",
   "id": "b9f0b721-f9e6-459a-a531-0d48f4cf7350",
   "metadata": {},
   "source": [
    "Answer to the following short questions. Justify your answer. You can use https://www.desmos.com/calculator to easily plot the functions."
   ]
  },
  {
   "cell_type": "markdown",
   "id": "954d2755-3433-4f05-82da-0385794f0461",
   "metadata": {},
   "source": [
    "1. Consider the function $$f_1(x) = x^3 - 9x^2 + 24x$$ over $\\mathbb{R}$. Is this function continuous? And convex?"
   ]
  },
  {
   "cell_type": "markdown",
   "id": "15e27be4-72cf-454d-95ac-36b92f77468e",
   "metadata": {},
   "source": [
    "2. Consider the following function over $\\mathbb{R}$\n",
    "$$f_2(x) =\n",
    "\\begin{cases}\n",
    "1+x & \\text{if } x < 0\\\\\n",
    "0 & \\text{if } x=0\\\\\n",
    "-1 + x & \\text{if } x > 0\\\\\n",
    "\\end{cases}\n",
    "$$ Is this function continuous at  $x=0$? And differentiable?"
   ]
  },
  {
   "cell_type": "markdown",
   "id": "ec51d1b6-9123-4984-a57d-3f269cd609fd",
   "metadata": {},
   "source": [
    "3. Consider the following function over $\\mathbb{R}$\n",
    "$$f_4(x_1, x_2, x_3, x_4) = 1 + 2x_1 + 3x_2+4x_3+5x_4$$\n",
    "Is this function continuous? And convex? And differentiable?"
   ]
  },
  {
   "cell_type": "code",
   "execution_count": null,
   "id": "b1722108-6521-41ff-89fe-e449ccb2374a",
   "metadata": {},
   "outputs": [],
   "source": []
  }
 ],
 "metadata": {
  "kernelspec": {
   "display_name": "Julia 1.9.3",
   "language": "julia",
   "name": "julia-1.9"
  },
  "language_info": {
   "file_extension": ".jl",
   "mimetype": "application/julia",
   "name": "julia",
   "version": "1.9.3"
  }
 },
 "nbformat": 4,
 "nbformat_minor": 5
}
