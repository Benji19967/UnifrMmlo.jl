{
 "cells": [
  {
   "cell_type": "markdown",
   "id": "395ae7d9",
   "metadata": {},
   "source": [
    "Every week there will be coding and writing exercises on the contents seen in the lecture. These exercises will be solved before the lecture of the following week. Finally, the last exercies will be on the material to be taught in the following week (and will be addressed during that lecture), so feel free to give it a try!\n",
    "\n",
    "This is the Jupyter notebook of MMLO's week 3. In Exercise 1, you are asked to answer some short questions. In Exercise 2, you are given a linear programming (LP) problem and have to answer some questions. Finally, in Exercise 3, you need to provide an LP formulation from a problem description.\n",
    "\n",
    "We recommend the step-by-step guide provided by JuMP (https://jump.dev/JuMP.jl/stable/tutorials/getting_started/getting_started_with_JuMP/#Step-by-step) to know more about how to write and solve optimization problems in Julia."
   ]
  },
  {
   "cell_type": "code",
   "execution_count": 1,
   "id": "92f4e62d",
   "metadata": {
    "tags": []
   },
   "outputs": [],
   "source": [
    "using JuMP\n",
    "using HiGHS"
   ]
  },
  {
   "cell_type": "markdown",
   "id": "5dd3e5c5-797b-4853-94b2-109b630c2f19",
   "metadata": {},
   "source": [
    "# Exercise 1"
   ]
  },
  {
   "cell_type": "markdown",
   "id": "b0703d4e-7f66-4931-aa84-3814e0941365",
   "metadata": {},
   "source": [
    "Consider the following LP problem and answer the questions below.\n",
    "\\begin{align}\n",
    "     \\text{min}  & \\quad 3x_1 + 8x_2 \\\\\n",
    "     \\text{subject to } &\\quad x_1 + x_2 \\geq 8\\\\\n",
    "              &\\quad 2x_1 - 3x_2 \\leq 0\\\\\n",
    "         &\\quad x_2 \\geq 6\\\\\n",
    "      &\\quad x_1, x_2 \\geq 0\n",
    "\\end{align}"
   ]
  },
  {
   "cell_type": "markdown",
   "id": "085fcc8c",
   "metadata": {},
   "source": [
    "### Questions"
   ]
  },
  {
   "cell_type": "markdown",
   "id": "6b04f15a",
   "metadata": {},
   "source": [
    "1. Draw the feasible region of this problem."
   ]
  },
  {
   "cell_type": "markdown",
   "id": "e4d8b989-ba16-4cad-846e-fdf8b0229701",
   "metadata": {},
   "source": [
    "2. Is the feasible region bounded? And convex?"
   ]
  },
  {
   "cell_type": "markdown",
   "id": "95a13c68",
   "metadata": {},
   "source": [
    "3. Find the optimal solution graphically."
   ]
  },
  {
   "cell_type": "markdown",
   "id": "bb237d76",
   "metadata": {
    "tags": []
   },
   "source": [
    "# Exercise 2"
   ]
  },
  {
   "cell_type": "markdown",
   "id": "cbc5a793-05fc-4663-9816-61e21493fa07",
   "metadata": {},
   "source": [
    "The Office of Nutrition Inspection of the EU recently found out that dishes served at a certain dining and beverage facility do not comport with the new nutritional regulations, and its report mentioned explicitly the lack of vitamins A and\n",
    "C and dietary fiber. The owner and operator of the facility is attempting to rectify these shortcomings by augmenting the menu with vegetable side dishes, which she intends to create from white cabbage, carrots, and a stockpile of pickled cucumbers discovered in the cellar. The following table summarizes the numerical data: the prescribed amount of the vitamins and fiber per dish, their content in the foods, and the unit prices of the foods.\n",
    "\n",
    " Food       | Carrot (raw) | Cucumber (pickled) | White cabbage (raw) | Required per dish\n",
    "-----------|----------------|-------------- |-------------- |--------------\n",
    " Vitamin A (mg/kg) |        35       |       0.5       |       0.5       |       0.5 mg\n",
    " Vitamin C (mg/kg) |        60       |       300       |       10       |       15 mg\n",
    "Dietary fiber (g/kg) |        30       |       20       |       10       |       4 g\n",
    "Price(EUR/kg) |        0.75       |       0.15       |       0.5       |      -\n",
    " \n",
    "At what minimum additional price per dish can the requirements of the Office of Nutrition Inspection be satisfied? What quantities (in grams) of each ingredient are added per dish? Formulate the problem as an LP problem, code it and solve it with Julia."
   ]
  },
  {
   "cell_type": "markdown",
   "id": "8f20be79-808b-4f20-a3a5-94b155aa6878",
   "metadata": {},
   "source": [
    "# Exercise 3"
   ]
  },
  {
   "cell_type": "markdown",
   "id": "50429b92-26fe-417a-a95e-e04e7590a0ad",
   "metadata": {},
   "source": [
    "Consider the following LP problem:\n",
    "$$\n",
    "    \\begin{align} \\\\\n",
    "        \\text{max }  & 4x_1 + 14x_2 \\\\\n",
    "        \\text{subject to } & 2x_1 + 7x_2 \\leq 21 \\\\\n",
    "         & 7x_1 + 2x_2 \\leq 21 \\\\\n",
    "         & x_1, x_2 \\geq 0 \n",
    "    \\end{align}\n",
    "$$"
   ]
  },
  {
   "cell_type": "markdown",
   "id": "c31c1e13-e0ba-4643-b3e1-fec9d52dd8db",
   "metadata": {},
   "source": [
    "Answer to the following questions. Make sure to carefully justify your answer."
   ]
  },
  {
   "cell_type": "markdown",
   "id": "c0f9e812-8c58-417b-ae9c-74ba95019678",
   "metadata": {},
   "source": [
    "1. Draw the feasible region of this problem."
   ]
  },
  {
   "cell_type": "markdown",
   "id": "375e0412-9e14-41ae-a746-1983db0b8de7",
   "metadata": {},
   "source": [
    "2. Evaluate the objective function at each vertex of the polyhedron. Which of the following options is valid?\n",
    "- (i) This problem has one optimal solution.\n",
    "- (ii) This problem has two optimal solutions.\n",
    "- (iii) This problem has infinitely many optimal solutions."
   ]
  },
  {
   "cell_type": "markdown",
   "id": "b654dbbe-db28-4ba4-ad1c-14a43034a947",
   "metadata": {
    "tags": []
   },
   "source": [
    "3. Write the LP problem in standard form."
   ]
  }
 ],
 "metadata": {
  "kernelspec": {
   "display_name": "Julia 1.9.3",
   "language": "julia",
   "name": "julia-1.9"
  },
  "language_info": {
   "file_extension": ".jl",
   "mimetype": "application/julia",
   "name": "julia",
   "version": "1.9.3"
  }
 },
 "nbformat": 4,
 "nbformat_minor": 5
}
